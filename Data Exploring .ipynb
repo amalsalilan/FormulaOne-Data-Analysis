{
 "cells": [
  {
   "cell_type": "code",
   "execution_count": 1,
   "id": "6a89852d",
   "metadata": {},
   "outputs": [],
   "source": [
    "import pandas as pd\n",
    "from summarytools import dfSummary\n",
    "import seaborn as sns\n",
    "import matplotlib.pyplot as plt"
   ]
  },
  {
   "cell_type": "code",
   "execution_count": 2,
   "id": "b0289ee3",
   "metadata": {},
   "outputs": [
    {
     "data": {
      "text/html": [
       "<div>\n",
       "<style scoped>\n",
       "    .dataframe tbody tr th:only-of-type {\n",
       "        vertical-align: middle;\n",
       "    }\n",
       "\n",
       "    .dataframe tbody tr th {\n",
       "        vertical-align: top;\n",
       "    }\n",
       "\n",
       "    .dataframe thead th {\n",
       "        text-align: right;\n",
       "    }\n",
       "</style>\n",
       "<table border=\"1\" class=\"dataframe\">\n",
       "  <thead>\n",
       "    <tr style=\"text-align: right;\">\n",
       "      <th></th>\n",
       "      <th>Pos</th>\n",
       "      <th>Driver</th>\n",
       "      <th>Nationality</th>\n",
       "      <th>Car</th>\n",
       "      <th>PTS</th>\n",
       "      <th>year</th>\n",
       "    </tr>\n",
       "  </thead>\n",
       "  <tbody>\n",
       "    <tr>\n",
       "      <th>0</th>\n",
       "      <td>1</td>\n",
       "      <td>Nino Farina FAR</td>\n",
       "      <td>ITA</td>\n",
       "      <td>Alfa Romeo</td>\n",
       "      <td>30.0</td>\n",
       "      <td>1950</td>\n",
       "    </tr>\n",
       "    <tr>\n",
       "      <th>1</th>\n",
       "      <td>2</td>\n",
       "      <td>Juan Manuel Fangio FAN</td>\n",
       "      <td>ARG</td>\n",
       "      <td>Alfa Romeo</td>\n",
       "      <td>27.0</td>\n",
       "      <td>1950</td>\n",
       "    </tr>\n",
       "    <tr>\n",
       "      <th>2</th>\n",
       "      <td>3</td>\n",
       "      <td>Luigi Fagioli FAG</td>\n",
       "      <td>ITA</td>\n",
       "      <td>Alfa Romeo</td>\n",
       "      <td>24.0</td>\n",
       "      <td>1950</td>\n",
       "    </tr>\n",
       "    <tr>\n",
       "      <th>3</th>\n",
       "      <td>4</td>\n",
       "      <td>Louis  Rosier ROS</td>\n",
       "      <td>FRA</td>\n",
       "      <td>Talbot-Lago</td>\n",
       "      <td>13.0</td>\n",
       "      <td>1950</td>\n",
       "    </tr>\n",
       "    <tr>\n",
       "      <th>4</th>\n",
       "      <td>5</td>\n",
       "      <td>Alberto Ascari ASC</td>\n",
       "      <td>ITA</td>\n",
       "      <td>Ferrari</td>\n",
       "      <td>11.0</td>\n",
       "      <td>1950</td>\n",
       "    </tr>\n",
       "    <tr>\n",
       "      <th>...</th>\n",
       "      <td>...</td>\n",
       "      <td>...</td>\n",
       "      <td>...</td>\n",
       "      <td>...</td>\n",
       "      <td>...</td>\n",
       "      <td>...</td>\n",
       "    </tr>\n",
       "    <tr>\n",
       "      <th>1613</th>\n",
       "      <td>18</td>\n",
       "      <td>Zhou Guanyu ZHO</td>\n",
       "      <td>CHN</td>\n",
       "      <td>Alfa Romeo Ferrari</td>\n",
       "      <td>6.0</td>\n",
       "      <td>2022</td>\n",
       "    </tr>\n",
       "    <tr>\n",
       "      <th>1614</th>\n",
       "      <td>19</td>\n",
       "      <td>Alexander Albon ALB</td>\n",
       "      <td>THA</td>\n",
       "      <td>Williams Mercedes</td>\n",
       "      <td>4.0</td>\n",
       "      <td>2022</td>\n",
       "    </tr>\n",
       "    <tr>\n",
       "      <th>1615</th>\n",
       "      <td>20</td>\n",
       "      <td>Nicholas Latifi LAT</td>\n",
       "      <td>CAN</td>\n",
       "      <td>Williams Mercedes</td>\n",
       "      <td>2.0</td>\n",
       "      <td>2022</td>\n",
       "    </tr>\n",
       "    <tr>\n",
       "      <th>1616</th>\n",
       "      <td>21</td>\n",
       "      <td>Nyck De Vries DEV</td>\n",
       "      <td>NED</td>\n",
       "      <td>Williams Mercedes</td>\n",
       "      <td>2.0</td>\n",
       "      <td>2022</td>\n",
       "    </tr>\n",
       "    <tr>\n",
       "      <th>1617</th>\n",
       "      <td>22</td>\n",
       "      <td>Nico Hulkenberg HUL</td>\n",
       "      <td>GER</td>\n",
       "      <td>Aston Martin Aramco Mercedes</td>\n",
       "      <td>0.0</td>\n",
       "      <td>2022</td>\n",
       "    </tr>\n",
       "  </tbody>\n",
       "</table>\n",
       "<p>1618 rows × 6 columns</p>\n",
       "</div>"
      ],
      "text/plain": [
       "     Pos                  Driver Nationality                           Car  \\\n",
       "0      1         Nino Farina FAR         ITA                    Alfa Romeo   \n",
       "1      2  Juan Manuel Fangio FAN         ARG                    Alfa Romeo   \n",
       "2      3       Luigi Fagioli FAG         ITA                    Alfa Romeo   \n",
       "3      4       Louis  Rosier ROS         FRA                   Talbot-Lago   \n",
       "4      5      Alberto Ascari ASC         ITA                       Ferrari   \n",
       "...   ..                     ...         ...                           ...   \n",
       "1613  18         Zhou Guanyu ZHO         CHN            Alfa Romeo Ferrari   \n",
       "1614  19     Alexander Albon ALB         THA             Williams Mercedes   \n",
       "1615  20     Nicholas Latifi LAT         CAN             Williams Mercedes   \n",
       "1616  21       Nyck De Vries DEV         NED             Williams Mercedes   \n",
       "1617  22     Nico Hulkenberg HUL         GER  Aston Martin Aramco Mercedes   \n",
       "\n",
       "       PTS  year  \n",
       "0     30.0  1950  \n",
       "1     27.0  1950  \n",
       "2     24.0  1950  \n",
       "3     13.0  1950  \n",
       "4     11.0  1950  \n",
       "...    ...   ...  \n",
       "1613   6.0  2022  \n",
       "1614   4.0  2022  \n",
       "1615   2.0  2022  \n",
       "1616   2.0  2022  \n",
       "1617   0.0  2022  \n",
       "\n",
       "[1618 rows x 6 columns]"
      ]
     },
     "execution_count": 2,
     "metadata": {},
     "output_type": "execute_result"
    }
   ],
   "source": [
    "df_driver=pd.read_csv(\"GrandPrix_drivers_details_1950_to_2022.csv\")\n",
    "df_driver"
   ]
  },
  {
   "cell_type": "code",
   "execution_count": 3,
   "id": "9fcb6a31",
   "metadata": {},
   "outputs": [
    {
     "name": "stdout",
     "output_type": "stream",
     "text": [
      "<class 'pandas.core.frame.DataFrame'>\n",
      "RangeIndex: 1078 entries, 0 to 1077\n",
      "Data columns (total 5 columns):\n",
      " #   Column      Non-Null Count  Dtype  \n",
      "---  ------      --------------  -----  \n",
      " 0   Grand Prix  1078 non-null   object \n",
      " 1   Driver      1078 non-null   object \n",
      " 2   Car         1078 non-null   object \n",
      " 3   Time        1078 non-null   object \n",
      " 4   year        1077 non-null   float64\n",
      "dtypes: float64(1), object(4)\n",
      "memory usage: 42.2+ KB\n"
     ]
    }
   ],
   "source": [
    "df_fastest_laps= pd.read_csv(\"GrandPrix_fastest-laps_details_1950_to_2022.csv\", encoding='ISO-8859-1')\n",
    "df_fastest_laps.info()"
   ]
  },
  {
   "cell_type": "code",
   "execution_count": 4,
   "id": "8132f554",
   "metadata": {},
   "outputs": [
    {
     "name": "stdout",
     "output_type": "stream",
     "text": [
      "<class 'pandas.core.frame.DataFrame'>\n",
      "RangeIndex: 1082 entries, 0 to 1081\n",
      "Data columns (total 7 columns):\n",
      " #   Column      Non-Null Count  Dtype  \n",
      "---  ------      --------------  -----  \n",
      " 0   Grand Prix  1082 non-null   object \n",
      " 1   Date        1082 non-null   object \n",
      " 2   Winner      1082 non-null   object \n",
      " 3   Car         1082 non-null   object \n",
      " 4   Laps        1079 non-null   float64\n",
      " 5   Time        1082 non-null   object \n",
      " 6   year        1079 non-null   float64\n",
      "dtypes: float64(2), object(5)\n",
      "memory usage: 59.3+ KB\n"
     ]
    }
   ],
   "source": [
    "df_race=pd.read_csv(\"GrandPrix_races_details_1950_to_2022.csv\", encoding='ISO-8859-1')\n",
    "df_race.info()"
   ]
  },
  {
   "cell_type": "code",
   "execution_count": 5,
   "id": "b2e8f374",
   "metadata": {},
   "outputs": [
    {
     "name": "stdout",
     "output_type": "stream",
     "text": [
      "<class 'pandas.core.frame.DataFrame'>\n",
      "RangeIndex: 1618 entries, 0 to 1617\n",
      "Data columns (total 6 columns):\n",
      " #   Column       Non-Null Count  Dtype  \n",
      "---  ------       --------------  -----  \n",
      " 0   Pos          1618 non-null   object \n",
      " 1   Driver       1618 non-null   object \n",
      " 2   Nationality  1618 non-null   object \n",
      " 3   Car          1607 non-null   object \n",
      " 4   PTS          1618 non-null   float64\n",
      " 5   year         1618 non-null   int64  \n",
      "dtypes: float64(1), int64(1), object(4)\n",
      "memory usage: 76.0+ KB\n"
     ]
    }
   ],
   "source": [
    "df_driver.info()"
   ]
  },
  {
   "cell_type": "code",
   "execution_count": null,
   "id": "c50f28d7",
   "metadata": {},
   "outputs": [],
   "source": []
  }
 ],
 "metadata": {
  "kernelspec": {
   "display_name": "Python 3 (ipykernel)",
   "language": "python",
   "name": "python3"
  },
  "language_info": {
   "codemirror_mode": {
    "name": "ipython",
    "version": 3
   },
   "file_extension": ".py",
   "mimetype": "text/x-python",
   "name": "python",
   "nbconvert_exporter": "python",
   "pygments_lexer": "ipython3",
   "version": "3.9.13"
  }
 },
 "nbformat": 4,
 "nbformat_minor": 5
}
